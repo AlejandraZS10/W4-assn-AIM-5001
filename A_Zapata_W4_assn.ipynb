{
 "cells": [
  {
   "cell_type": "markdown",
   "metadata": {},
   "source": [
    "## AIM 5001 Week 4 Assignment (NumPy)\n",
    "\n",
    "### Alejandra Zapata"
   ]
  },
  {
   "cell_type": "markdown",
   "metadata": {},
   "source": [
    "## Task 1"
   ]
  },
  {
   "cell_type": "code",
   "execution_count": 18,
   "metadata": {},
   "outputs": [
    {
     "name": "stdout",
     "output_type": "stream",
     "text": [
      "[2 4]\n"
     ]
    }
   ],
   "source": [
    "a = np.array([1, 2, 3, 2, 3, 4, 3, 4, 5, 6])\n",
    "b = np.array([7, 2, 10, 2, 7, 4, 9, 4, 9, 8])\n",
    "\n",
    "result=np.intersect1d(a,b) #intersect is the distinct common values between both a & b\n",
    "print(result)"
   ]
  },
  {
   "cell_type": "markdown",
   "metadata": {},
   "source": [
    "## Task 2"
   ]
  },
  {
   "cell_type": "code",
   "execution_count": 19,
   "metadata": {},
   "outputs": [
    {
     "data": {
      "text/plain": [
       "array([[ 1,  6, 11],\n",
       "       [ 2,  7, 12],\n",
       "       [ 3,  8, 13],\n",
       "       [ 4,  9, 14],\n",
       "       [ 5, 10, 15]])"
      ]
     },
     "execution_count": 19,
     "metadata": {},
     "output_type": "execute_result"
    }
   ],
   "source": [
    "c=np.arange(1,16).reshape(3,5) #np.arange creates an array with consecutive numbers from 1-16 and shapes a 2D array\n",
    "c.T #switches the elements of rows to the columns"
   ]
  },
  {
   "cell_type": "markdown",
   "metadata": {},
   "source": [
    "## Task 3"
   ]
  },
  {
   "cell_type": "code",
   "execution_count": 20,
   "metadata": {},
   "outputs": [
    {
     "data": {
      "text/plain": [
       "array([ 1,  7,  8, 15])"
      ]
     },
     "execution_count": 20,
     "metadata": {},
     "output_type": "execute_result"
    }
   ],
   "source": [
    "x = np.array([12, 5, 7, 15, 3, 1, 8])\n",
    "y = np.array([14, 6, 3, 11, 19, 12, 5])\n",
    "\n",
    "xy=np.intersect1d(x,y) #creates a new array with the common values\n",
    "\n",
    "np.setdiff1d(x,xy) #drops the common values"
   ]
  },
  {
   "cell_type": "markdown",
   "metadata": {},
   "source": [
    "## Task 4"
   ]
  },
  {
   "cell_type": "code",
   "execution_count": 23,
   "metadata": {},
   "outputs": [
    {
     "data": {
      "text/plain": [
       "46.354838709677416"
      ]
     },
     "execution_count": 23,
     "metadata": {},
     "output_type": "execute_result"
    }
   ],
   "source": [
    "1437/31"
   ]
  },
  {
   "cell_type": "code",
   "execution_count": 21,
   "metadata": {},
   "outputs": [
    {
     "name": "stdout",
     "output_type": "stream",
     "text": [
      "[47. 47. 47. 47. 47. 47. 47. 47. 47. 47. 47. 47. 47. 47. 47. 47. 47. 47.\n",
      " 47. 47. 47. 47. 47. 47. 47. 47. 47. 47. 47. 47. 27.]\n",
      "The sum of this array is 1437.0\n"
     ]
    }
   ],
   "source": [
    "#There is 1437 mi netween NYC and Key West Florida\n",
    "#We add 31 elements because that is the number of days we biked\n",
    "a=np.zeros(31) #an array where all the values equal 0 and has 31 elements\n",
    "\n",
    "#Instead of using the np.random function we avoid getting very different\n",
    "# values for each elemet (Ex. Day 1 could be 1000 miles)\n",
    "#We use 47 for all the elements as an approximation of biking the same distance everyday\n",
    "a[0:31]=47 \n",
    "\n",
    "a[30]=27 #this appends the last element to be 27 to have a total sum of 1437\n",
    "print(a)\n",
    "print ('The sum of this array is',(np.sum(a)))"
   ]
  },
  {
   "cell_type": "code",
   "execution_count": 22,
   "metadata": {},
   "outputs": [
    {
     "data": {
      "text/plain": [
       "array([  47.,   94.,  141.,  188.,  235.,  282.,  329.,  376.,  423.,\n",
       "        470.,  517.,  564.,  611.,  658.,  705.,  752.,  799.,  846.,\n",
       "        893.,  940.,  987., 1034., 1081., 1128., 1175., 1222., 1269.,\n",
       "       1316., 1363., 1410., 1437.])"
      ]
     },
     "execution_count": 22,
     "metadata": {},
     "output_type": "execute_result"
    }
   ],
   "source": [
    "np.cumsum(a) \n",
    "#np.cumsum gives us an array that adds the previous values until the end of the array which equals \n",
    "#the number of miles between NYC and Key West"
   ]
  },
  {
   "cell_type": "markdown",
   "metadata": {},
   "source": [
    "## Task 5"
   ]
  },
  {
   "cell_type": "code",
   "execution_count": 2,
   "metadata": {},
   "outputs": [
    {
     "data": {
      "text/plain": [
       "numpy.ndarray"
      ]
     },
     "execution_count": 2,
     "metadata": {},
     "output_type": "execute_result"
    }
   ],
   "source": [
    "import pandas\n",
    "import numpy as np\n",
    "\n",
    "# supress scientific notation\n",
    "np.set_printoptions(suppress = True)\n",
    "\n",
    "# read the data file from GitHub and convert to a NumPy ndarray object\n",
    "nyc_water = pandas.read_csv('https://raw.githubusercontent.com/jtopor/DAV-5400/master/Week4/Water_Consumption_In_The_New_York_City.csv').values\n",
    "\n",
    "# verify you have an ndarray object\n",
    "type(nyc_water)"
   ]
  },
  {
   "cell_type": "code",
   "execution_count": 4,
   "metadata": {},
   "outputs": [
    {
     "data": {
      "text/plain": [
       "array([[   1979. , 7102100. ,    1512. ,     213. ],\n",
       "       [   1980. , 7071639. ,    1506. ,     213. ],\n",
       "       [   1981. , 7089241. ,    1309. ,     185. ],\n",
       "       [   1982. , 7109105. ,    1382. ,     194. ],\n",
       "       [   1983. , 7181224. ,    1424. ,     198. ],\n",
       "       [   1984. , 7234514. ,    1465. ,     203. ],\n",
       "       [   1985. , 7274054. ,    1326. ,     182. ],\n",
       "       [   1986. , 7319246. ,    1351. ,     185. ],\n",
       "       [   1987. , 7342476. ,    1447. ,     197. ],\n",
       "       [   1988. , 7353719. ,    1484. ,     202. ],\n",
       "       [   1989. , 7344175. ,    1402. ,     191. ],\n",
       "       [   1990. , 7335650. ,    1424. ,     194. ],\n",
       "       [   1991. , 7374501. ,    1469. ,     199. ],\n",
       "       [   1992. , 7428944. ,    1369. ,     184. ],\n",
       "       [   1993. , 7506166. ,    1368.5,     182. ],\n",
       "       [   1994. , 7570458. ,    1357.7,     179. ],\n",
       "       [   1995. , 7633040. ,    1325.7,     174. ],\n",
       "       [   1996. , 7697812. ,    1297.9,     169. ],\n",
       "       [   1997. , 7773443. ,    1205.5,     155. ],\n",
       "       [   1998. , 7858259. ,    1219.5,     155. ],\n",
       "       [   1999. , 7947660. ,    1237.2,     156. ],\n",
       "       [   2000. , 8008278. ,    1240.4,     155. ],\n",
       "       [   2001. , 8024963.5,    1184. ,     148. ],\n",
       "       [   2002. , 8041649. ,    1135.6,     141. ],\n",
       "       [   2003. , 8058334.5,    1093.7,     136. ],\n",
       "       [   2004. , 8075020. ,    1099.5,     136. ],\n",
       "       [   2005. , 8091705.5,    1138. ,     141. ],\n",
       "       [   2006. , 8108391. ,    1069. ,     132. ],\n",
       "       [   2007. , 8125076.5,    1114. ,     137. ],\n",
       "       [   2008. , 8141762. ,    1098. ,     135. ],\n",
       "       [   2009. , 8158447.5,    1007.5,     123. ],\n",
       "       [   2010. , 8175133. ,    1039. ,     127. ],\n",
       "       [   2011. , 8284098. ,    1021. ,     123. ],\n",
       "       [   2012. , 8361179. ,    1009.1,     121. ],\n",
       "       [   2013. , 8422460. ,    1006.1,     119. ],\n",
       "       [   2014. , 8471990. ,     996. ,     118. ],\n",
       "       [   2015. , 8516502. ,    1009. ,     118. ],\n",
       "       [   2016. , 8537673. ,    1002. ,     117. ],\n",
       "       [   2017. , 8622698. ,     990.2,     115. ]])"
      ]
     },
     "execution_count": 4,
     "metadata": {},
     "output_type": "execute_result"
    }
   ],
   "source": [
    "nyc_water"
   ]
  },
  {
   "cell_type": "code",
   "execution_count": 6,
   "metadata": {},
   "outputs": [],
   "source": [
    "new=nyc_water.T #by transposing the data we can treat each column as an index"
   ]
  },
  {
   "cell_type": "code",
   "execution_count": 13,
   "metadata": {},
   "outputs": [
    {
     "data": {
      "text/plain": [
       "1512.0"
      ]
     },
     "execution_count": 13,
     "metadata": {},
     "output_type": "execute_result"
    }
   ],
   "source": [
    "np.amax(new[2]) #maximum yearly NYC consumption in millions per gallon"
   ]
  },
  {
   "cell_type": "code",
   "execution_count": 14,
   "metadata": {},
   "outputs": [
    {
     "data": {
      "text/plain": [
       "(39,)"
      ]
     },
     "execution_count": 14,
     "metadata": {},
     "output_type": "execute_result"
    }
   ],
   "source": [
    "np.shape(new[0])#count of years on the table"
   ]
  },
  {
   "cell_type": "code",
   "execution_count": 15,
   "metadata": {},
   "outputs": [
    {
     "data": {
      "text/plain": [
       "160.30769230769232"
      ]
     },
     "execution_count": 15,
     "metadata": {},
     "output_type": "execute_result"
    }
   ],
   "source": [
    "np.mean(new[3]) #the mean of per capita daily water consumption"
   ]
  },
  {
   "cell_type": "code",
   "execution_count": 16,
   "metadata": {},
   "outputs": [
    {
     "data": {
      "text/plain": [
       "31.51894330370624"
      ]
     },
     "execution_count": 16,
     "metadata": {},
     "output_type": "execute_result"
    }
   ],
   "source": [
    "np.std(new[3]) #the standard deviation of per capita daily water consumption"
   ]
  },
  {
   "cell_type": "code",
   "execution_count": 17,
   "metadata": {},
   "outputs": [
    {
     "data": {
      "text/plain": [
       "array([-30461. ,  17602. ,  19864. ,  72119. ,  53290. ,  39540. ,\n",
       "        45192. ,  23230. ,  11243. ,  -9544. ,  -8525. ,  38851. ,\n",
       "        54443. ,  77222. ,  64292. ,  62582. ,  64772. ,  75631. ,\n",
       "        84816. ,  89401. ,  60618. ,  16685.5,  16685.5,  16685.5,\n",
       "        16685.5,  16685.5,  16685.5,  16685.5,  16685.5,  16685.5,\n",
       "        16685.5, 108965. ,  77081. ,  61281. ,  49530. ,  44512. ,\n",
       "        21171. ,  85025. ])"
      ]
     },
     "execution_count": 17,
     "metadata": {},
     "output_type": "execute_result"
    }
   ],
   "source": [
    "pop_diff=np.diff(new[1]) #the increase or decrease on population\n",
    "pop_diff"
   ]
  }
 ],
 "metadata": {
  "kernelspec": {
   "display_name": "Python 3",
   "language": "python",
   "name": "python3"
  },
  "language_info": {
   "codemirror_mode": {
    "name": "ipython",
    "version": 3
   },
   "file_extension": ".py",
   "mimetype": "text/x-python",
   "name": "python",
   "nbconvert_exporter": "python",
   "pygments_lexer": "ipython3",
   "version": "3.7.6"
  }
 },
 "nbformat": 4,
 "nbformat_minor": 2
}
